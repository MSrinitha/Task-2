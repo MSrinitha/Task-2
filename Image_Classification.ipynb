{
 "cells": [
  {
   "cell_type": "code",
   "execution_count": 1,
   "id": "3889cea0",
   "metadata": {},
   "outputs": [],
   "source": [
    "# extract dataset\n",
    "from zipfile import ZipFile\n",
    "\n",
    "dataset_train = \"C://Users//M.Gopal//Downloads//train.zip\"\n",
    "    \n",
    "with ZipFile(dataset_train, 'r') as zip:\n",
    "    zip.extractall()"
   ]
  },
  {
   "cell_type": "code",
   "execution_count": 2,
   "id": "4b32ac3b",
   "metadata": {},
   "outputs": [],
   "source": [
    "import os\n",
    "import numpy as np\n",
    "from sklearn.svm import SVC\n",
    "from sklearn.metrics import classification_report, confusion_matrix\n",
    "import matplotlib.pyplot as plt\n",
    "from tqdm import tqdm\n",
    "import joblib\n",
    "from sklearn.model_selection import GridSearchCV\n",
    "import cv2\n",
    "import seaborn as sns\n",
    "import time\n",
    "from sklearn.decomposition import PCA\n",
    "from sklearn.pipeline import Pipeline\n",
    "from sklearn.model_selection import train_test_split"
   ]
  },
  {
   "cell_type": "code",
   "execution_count": 3,
   "id": "9c528048",
   "metadata": {},
   "outputs": [],
   "source": [
    "folder_path = f\"C://Users//M.Gopal//Downloads//Dataset\"\n",
    "os.makedirs(folder_path, exist_ok=True)\n",
    "\n",
    "# define path\n",
    "confusion_image_path = os.path.join(folder_path, 'confusion matrix.png')\n",
    "classification_file_path = os.path.join(folder_path, 'classification_report.txt')\n",
    "model_file_path = os.path.join(folder_path, \"svm_model.pkl\")\n",
    "\n",
    "# Path dataset\n",
    "dataset_dir = \"C://Users//M.Gopal//Downloads//Dataset\"\n",
    "train_dir = os.path.join(dataset_dir, \"train\")\n",
    "test_dir = os.path.join(dataset_dir, \"test1\")"
   ]
  },
  {
   "cell_type": "code",
   "execution_count": 4,
   "id": "438377ee",
   "metadata": {},
   "outputs": [
    {
     "name": "stderr",
     "output_type": "stream",
     "text": [
      "Processing Train Images: 100%|███████████████████████████████████████████████████| 24734/24734 [08:55<00:00, 46.19it/s]\n"
     ]
    }
   ],
   "source": [
    "# load data, preprocessing data, and labeling\n",
    "# dog = 1, cat = 0\n",
    "train_images = os.listdir(train_dir)\n",
    "features = []\n",
    "labels = []\n",
    "image_size = (50, 50)\n",
    "\n",
    "# Proses train images\n",
    "for image in tqdm(train_images, desc=\"Processing Train Images\"):\n",
    "    if image[0:3] == 'cat' :\n",
    "        label = 0\n",
    "    else :\n",
    "        label = 1\n",
    "    image_read = cv2.imread(train_dir+\"/\"+image)\n",
    "    image_resized = cv2.resize(image_read, image_size)\n",
    "    image_normalized = image_resized / 255.0\n",
    "    image_flatten = image_normalized.flatten()\n",
    "    features.append(image_flatten)\n",
    "    labels.append(label)"
   ]
  },
  {
   "cell_type": "code",
   "execution_count": 5,
   "id": "59661bf9",
   "metadata": {},
   "outputs": [],
   "source": [
    "del train_images"
   ]
  },
  {
   "cell_type": "code",
   "execution_count": 6,
   "id": "f207d11e",
   "metadata": {},
   "outputs": [],
   "source": [
    "features = np.asarray(features)\n",
    "labels = np.asarray(labels)\n",
    "\n",
    "# train test split\n",
    "X_train, X_test, y_train, y_test = train_test_split(features, labels, test_size=0.2, shuffle=True, random_state=42)"
   ]
  },
  {
   "cell_type": "code",
   "execution_count": 7,
   "id": "493b691c",
   "metadata": {},
   "outputs": [],
   "source": [
    "del features\n",
    "del labels"
   ]
  },
  {
   "cell_type": "code",
   "execution_count": 8,
   "id": "9c8fd401",
   "metadata": {},
   "outputs": [],
   "source": [
    "# PCA, SVM, & Pipeline\n",
    "n_components = 0.8\n",
    "pca = PCA(n_components=n_components)\n",
    "svm = SVC()\n",
    "pca = PCA(n_components=n_components, random_state=42)\n",
    "pipeline = Pipeline([\n",
    "    ('pca', pca),\n",
    "    ('svm', svm)\n",
    "])"
   ]
  },
  {
   "cell_type": "code",
   "execution_count": 9,
   "id": "7203a619",
   "metadata": {},
   "outputs": [],
   "source": [
    "param_grid = {\n",
    "    'pca__n_components': [2, 1, 0.9, 0.8],\n",
    "    'svm__kernel': ['linear', 'rbf', 'poly', 'sigmoid'],\n",
    "}"
   ]
  },
  {
   "cell_type": "code",
   "execution_count": 10,
   "id": "d879934d",
   "metadata": {},
   "outputs": [
    {
     "name": "stdout",
     "output_type": "stream",
     "text": [
      "Fitting 3 folds for each of 16 candidates, totalling 48 fits\n",
      "[CV 1/3] END pca__n_components=2, svm__kernel=linear;, score=0.524 total time=  55.1s\n",
      "[CV 2/3] END pca__n_components=2, svm__kernel=linear;, score=0.522 total time=  56.2s\n",
      "[CV 3/3] END pca__n_components=2, svm__kernel=linear;, score=0.531 total time=  46.0s\n",
      "[CV 1/3] END pca__n_components=2, svm__kernel=rbf;, score=0.572 total time=  40.5s\n",
      "[CV 2/3] END pca__n_components=2, svm__kernel=rbf;, score=0.562 total time=  41.4s\n",
      "[CV 3/3] END pca__n_components=2, svm__kernel=rbf;, score=0.568 total time=  41.1s\n",
      "[CV 1/3] END pca__n_components=2, svm__kernel=poly;, score=0.501 total time=  29.5s\n",
      "[CV 2/3] END pca__n_components=2, svm__kernel=poly;, score=0.504 total time=  28.0s\n",
      "[CV 3/3] END pca__n_components=2, svm__kernel=poly;, score=0.504 total time=  26.8s\n",
      "[CV 1/3] END pca__n_components=2, svm__kernel=sigmoid;, score=0.499 total time=  27.2s\n",
      "[CV 2/3] END pca__n_components=2, svm__kernel=sigmoid;, score=0.501 total time=  26.5s\n",
      "[CV 3/3] END pca__n_components=2, svm__kernel=sigmoid;, score=0.501 total time=  23.7s\n",
      "[CV 1/3] END pca__n_components=1, svm__kernel=linear;, score=0.514 total time=  28.3s\n",
      "[CV 2/3] END pca__n_components=1, svm__kernel=linear;, score=0.516 total time=  30.0s\n",
      "[CV 3/3] END pca__n_components=1, svm__kernel=linear;, score=0.513 total time=  29.7s\n",
      "[CV 1/3] END pca__n_components=1, svm__kernel=rbf;, score=0.528 total time=  41.5s\n",
      "[CV 2/3] END pca__n_components=1, svm__kernel=rbf;, score=0.521 total time=  41.9s\n",
      "[CV 3/3] END pca__n_components=1, svm__kernel=rbf;, score=0.533 total time=  41.1s\n",
      "[CV 1/3] END pca__n_components=1, svm__kernel=poly;, score=0.505 total time=  25.4s\n",
      "[CV 2/3] END pca__n_components=1, svm__kernel=poly;, score=0.504 total time=  23.9s\n",
      "[CV 3/3] END pca__n_components=1, svm__kernel=poly;, score=0.505 total time=  27.1s\n",
      "[CV 1/3] END pca__n_components=1, svm__kernel=sigmoid;, score=0.502 total time=  21.8s\n",
      "[CV 2/3] END pca__n_components=1, svm__kernel=sigmoid;, score=0.500 total time=  21.7s\n",
      "[CV 3/3] END pca__n_components=1, svm__kernel=sigmoid;, score=0.500 total time=  21.6s\n",
      "[CV 1/3] END pca__n_components=0.9, svm__kernel=linear;, score=0.603 total time=33.6min\n",
      "[CV 2/3] END pca__n_components=0.9, svm__kernel=linear;, score=0.606 total time=29.4min\n",
      "[CV 3/3] END pca__n_components=0.9, svm__kernel=linear;, score=0.611 total time=28.6min\n",
      "[CV 1/3] END pca__n_components=0.9, svm__kernel=rbf;, score=0.675 total time= 9.8min\n",
      "[CV 2/3] END pca__n_components=0.9, svm__kernel=rbf;, score=0.669 total time= 9.8min\n",
      "[CV 3/3] END pca__n_components=0.9, svm__kernel=rbf;, score=0.674 total time= 8.4min\n",
      "[CV 1/3] END pca__n_components=0.9, svm__kernel=poly;, score=0.607 total time= 8.7min\n",
      "[CV 2/3] END pca__n_components=0.9, svm__kernel=poly;, score=0.597 total time= 8.8min\n",
      "[CV 3/3] END pca__n_components=0.9, svm__kernel=poly;, score=0.602 total time= 9.3min\n",
      "[CV 1/3] END pca__n_components=0.9, svm__kernel=sigmoid;, score=0.516 total time= 9.5min\n",
      "[CV 2/3] END pca__n_components=0.9, svm__kernel=sigmoid;, score=0.515 total time= 8.8min\n",
      "[CV 3/3] END pca__n_components=0.9, svm__kernel=sigmoid;, score=0.527 total time= 8.2min\n",
      "[CV 1/3] END pca__n_components=0.8, svm__kernel=linear;, score=0.589 total time=10.9min\n",
      "[CV 2/3] END pca__n_components=0.8, svm__kernel=linear;, score=0.584 total time=11.1min\n",
      "[CV 3/3] END pca__n_components=0.8, svm__kernel=linear;, score=0.590 total time=11.7min\n",
      "[CV 1/3] END pca__n_components=0.8, svm__kernel=rbf;, score=0.670 total time= 8.6min\n",
      "[CV 2/3] END pca__n_components=0.8, svm__kernel=rbf;, score=0.665 total time= 7.9min\n",
      "[CV 3/3] END pca__n_components=0.8, svm__kernel=rbf;, score=0.664 total time= 8.4min\n",
      "[CV 1/3] END pca__n_components=0.8, svm__kernel=poly;, score=0.597 total time= 8.2min\n",
      "[CV 2/3] END pca__n_components=0.8, svm__kernel=poly;, score=0.593 total time= 8.4min\n",
      "[CV 3/3] END pca__n_components=0.8, svm__kernel=poly;, score=0.590 total time= 8.8min\n",
      "[CV 1/3] END pca__n_components=0.8, svm__kernel=sigmoid;, score=0.516 total time= 8.4min\n",
      "[CV 2/3] END pca__n_components=0.8, svm__kernel=sigmoid;, score=0.515 total time= 8.1min\n",
      "[CV 3/3] END pca__n_components=0.8, svm__kernel=sigmoid;, score=0.524 total time= 8.1min\n"
     ]
    }
   ],
   "source": [
    "start_time = time.time()\n",
    "\n",
    "grid_search = GridSearchCV(pipeline, param_grid, cv=3, verbose=4)\n",
    "grid_search.fit(X_train, y_train)\n",
    "\n",
    "\n",
    "end_time = time.time()"
   ]
  },
  {
   "cell_type": "code",
   "execution_count": 11,
   "id": "0ce8cb2a",
   "metadata": {},
   "outputs": [],
   "source": [
    "del X_train\n",
    "del y_train"
   ]
  },
  {
   "cell_type": "code",
   "execution_count": 12,
   "id": "a14d0cef",
   "metadata": {},
   "outputs": [
    {
     "name": "stdout",
     "output_type": "stream",
     "text": [
      "Best Parameters:  {'pca__n_components': 0.9, 'svm__kernel': 'rbf'}\n",
      "Best Score:  0.6728155598701813\n"
     ]
    }
   ],
   "source": [
    "best_pipeline = grid_search.best_estimator_\n",
    "best_params = grid_search.best_params_\n",
    "best_score = grid_search.best_score_\n",
    "\n",
    "print(\"Best Parameters: \", best_params)\n",
    "print(\"Best Score: \", best_score)"
   ]
  },
  {
   "cell_type": "code",
   "execution_count": 13,
   "id": "58346c51",
   "metadata": {},
   "outputs": [
    {
     "name": "stdout",
     "output_type": "stream",
     "text": [
      "Accuracy: 0.6719223771983021\n"
     ]
    }
   ],
   "source": [
    "# Evaluation on test dataset\n",
    "accuracy = best_pipeline.score(X_test, y_test)\n",
    "print(\"Accuracy:\", accuracy)"
   ]
  },
  {
   "cell_type": "code",
   "execution_count": 14,
   "id": "49dc1343",
   "metadata": {},
   "outputs": [
    {
     "name": "stdout",
     "output_type": "stream",
     "text": [
      "Classification Report:\n",
      "               precision    recall  f1-score   support\n",
      "\n",
      "         Cat       0.68      0.69      0.68      2524\n",
      "         Dog       0.67      0.66      0.66      2423\n",
      "\n",
      "    accuracy                           0.67      4947\n",
      "   macro avg       0.67      0.67      0.67      4947\n",
      "weighted avg       0.67      0.67      0.67      4947\n",
      "\n"
     ]
    }
   ],
   "source": [
    "y_pred = best_pipeline.predict(X_test)\n",
    "\n",
    "# classification report\n",
    "target_names = ['Cat', 'Dog']\n",
    "classification_rep = classification_report(y_test, y_pred, target_names=target_names)\n",
    "print(\"Classification Report:\\n\", classification_rep)\n",
    "\n",
    "with open(classification_file_path, 'w') as file:\n",
    "    file.write(classification_rep)"
   ]
  },
  {
   "cell_type": "code",
   "execution_count": 15,
   "id": "40e315ec",
   "metadata": {},
   "outputs": [
    {
     "data": {
      "image/png": "[encoded data removed]",
      "text/plain": [
       "<Figure size 432x288 with 2 Axes>"
      ]
     },
     "metadata": {
      "needs_background": "light"
     },
     "output_type": "display_data"
    }
   ],
   "source": [
    "# Confusion matrix\n",
    "cm = confusion_matrix(y_test, y_pred)\n",
    "sns.heatmap(cm, annot=True, fmt=\"d\", cmap=\"Reds\")\n",
    "plt.xlabel('Predicted labels')\n",
    "plt.ylabel('True labels')\n",
    "plt.savefig(confusion_image_path)\n",
    "plt.show()"
   ]
  },
  {
   "cell_type": "code",
   "execution_count": null,
   "id": "05013257",
   "metadata": {},
   "outputs": [],
   "source": []
  }
 ],
 "metadata": {
  "kernelspec": {
   "display_name": "Python 3 (ipykernel)",
   "language": "python",
   "name": "python3"
  },
  "language_info": {
   "codemirror_mode": {
    "name": "ipython",
    "version": 3
   },
   "file_extension": ".py",
   "mimetype": "text/x-python",
   "name": "python",
   "nbconvert_exporter": "python",
   "pygments_lexer": "ipython3",
   "version": "3.10.3"
  }
 },
 "nbformat": 4,
 "nbformat_minor": 5
}
